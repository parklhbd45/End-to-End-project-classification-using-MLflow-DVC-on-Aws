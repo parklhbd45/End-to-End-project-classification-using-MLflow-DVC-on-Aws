{
 "cells": [
  {
   "cell_type": "code",
   "execution_count": 1,
   "metadata": {},
   "outputs": [],
   "source": [
    "import os"
   ]
  },
  {
   "cell_type": "code",
   "execution_count": 3,
   "metadata": {},
   "outputs": [
    {
     "data": {
      "text/plain": [
       "'/Users/sarutsunpawatr/Datath Online courses/E2Eproject/MLflowdemp/MLflow/End-to-End-project-classification-using-MLflow-DVC-on-Aws/research'"
      ]
     },
     "execution_count": 3,
     "metadata": {},
     "output_type": "execute_result"
    }
   ],
   "source": [
    "%pwd"
   ]
  },
  {
   "cell_type": "code",
   "execution_count": 4,
   "metadata": {},
   "outputs": [],
   "source": [
    "os.chdir(\"../\")"
   ]
  },
  {
   "cell_type": "code",
   "execution_count": 5,
   "metadata": {},
   "outputs": [
    {
     "data": {
      "text/plain": [
       "'/Users/sarutsunpawatr/Datath Online courses/E2Eproject/MLflowdemp/MLflow/End-to-End-project-classification-using-MLflow-DVC-on-Aws'"
      ]
     },
     "execution_count": 5,
     "metadata": {},
     "output_type": "execute_result"
    }
   ],
   "source": [
    "pwd"
   ]
  },
  {
   "cell_type": "code",
   "execution_count": 6,
   "metadata": {},
   "outputs": [],
   "source": [
    "from dataclasses import dataclass\n",
    "from pathlib import Path"
   ]
  },
  {
   "cell_type": "code",
   "execution_count": 38,
   "metadata": {},
   "outputs": [],
   "source": [
    "@dataclass(frozen=True)\n",
    "class DataIngestionConfig:\n",
    "    root_dir: Path\n",
    "    source_URL: str\n",
    "    local_data_file: Path\n",
    "    unzip_dir: Path"
   ]
  },
  {
   "cell_type": "code",
   "execution_count": 39,
   "metadata": {},
   "outputs": [],
   "source": [
    "from src.cnnClassifier.constants import *\n",
    "from cnnClassifier.utils.common import read_yaml, create_directories"
   ]
  },
  {
   "cell_type": "markdown",
   "metadata": {},
   "source": []
  },
  {
   "cell_type": "code",
   "execution_count": 40,
   "metadata": {},
   "outputs": [
    {
     "ename": "SyntaxError",
     "evalue": "invalid syntax (1640054460.py, line 1)",
     "output_type": "error",
     "traceback": [
      "\u001b[0;36m  Cell \u001b[0;32mIn[40], line 1\u001b[0;36m\u001b[0m\n\u001b[0;31m    class ConfigurationManager\u001b[0m\n\u001b[0m                              ^\u001b[0m\n\u001b[0;31mSyntaxError\u001b[0m\u001b[0;31m:\u001b[0m invalid syntax\n"
     ]
    }
   ],
   "source": [
    "class ConfigurationManager"
   ]
  },
  {
   "cell_type": "code",
   "execution_count": 41,
   "metadata": {},
   "outputs": [],
   "source": [
    "from cnnClassifier import logger"
   ]
  },
  {
   "cell_type": "code",
   "execution_count": 42,
   "metadata": {},
   "outputs": [],
   "source": [
    "class ConfigurationManager:\n",
    "    def __init__(\n",
    "        self,\n",
    "        config_filepath = CONFIG_FILE_PATH,\n",
    "        params_filepath = PARAMS_FILE_PATH):\n",
    "\n",
    "        logger.info(f\"Loading configurations from {config_filepath}\")\n",
    "        self.config = read_yaml(config_filepath)\n",
    "        logger.info(f\"Loading parameters from {params_filepath}\")\n",
    "        self.params = read_yaml(params_filepath)\n",
    "\n",
    "        logger.info(f\"Creating artifacts root directory: {self.config.artifacts_root}\")\n",
    "        create_directories([self.config.artifacts_root])\n",
    "        \n",
    "    def get_data_ingestion_config(self) -> DataIngestionConfig:\n",
    "        logger.info(\"Preparing data ingestion configuration\")\n",
    "        config = self.config.data_ingestion\n",
    "\n",
    "        logger.info(f\"Creating data ingestion root directory: {config.root_dir}\")\n",
    "        create_directories([config.root_dir])\n",
    "\n",
    "        data_ingestion_config = DataIngestionConfig(\n",
    "            root_dir=config.root_dir,\n",
    "            source_URL=config.source_URL,\n",
    "            local_data_file=config.local_data_file,\n",
    "            unzip_dir=config.unzip_dir \n",
    "        )\n",
    "\n",
    "        logger.info(f\"Data ingestion config created: {data_ingestion_config}\")\n",
    "        return data_ingestion_config"
   ]
  },
  {
   "cell_type": "code",
   "execution_count": 43,
   "metadata": {},
   "outputs": [],
   "source": [
    "import os\n",
    "import zipfile\n",
    "import gdown\n",
    "from cnnClassifier.utils.common import get_size"
   ]
  },
  {
   "cell_type": "code",
   "execution_count": 44,
   "metadata": {},
   "outputs": [],
   "source": [
    "class DataIngestion:\n",
    "    def __init__(self, config: DataIngestionConfig):\n",
    "        self.config = config\n",
    "        logger.info(f\"Data Ingestion config initialized: {self.config}\")\n",
    "\n",
    "    def download_file(self) -> str:\n",
    "        '''\n",
    "        Fetch data from the url\n",
    "        '''\n",
    "        try: \n",
    "            dataset_url = self.config.source_URL\n",
    "            zip_download_dir = self.config.local_data_file\n",
    "            os.makedirs(\"artifacts/data_ingestion\", exist_ok=True)\n",
    "            logger.info(f\"Downloading data from {dataset_url} into file {zip_download_dir}\")\n",
    "\n",
    "            file_id = dataset_url.split(\"/\")[-2]\n",
    "            prefix = 'https://drive.google.com/uc?/export=download&id='\n",
    "            gdown.download(prefix+file_id, zip_download_dir)\n",
    "\n",
    "            logger.info(f\"Successfully downloaded data from {dataset_url} into file {zip_download_dir}\")\n",
    "            return zip_download_dir\n",
    "\n",
    "        except Exception as e:\n",
    "            logger.error(f\"Error occurred while downloading file: {str(e)}\")\n",
    "            raise e\n",
    "\n",
    "    def extract_zip_file(self):\n",
    "        \"\"\"\n",
    "        Extracts the zip file into the data directory\n",
    "        Function returns None\n",
    "        \"\"\"\n",
    "        try:\n",
    "            unzip_path = self.config.unzip_dir\n",
    "            os.makedirs(unzip_path, exist_ok=True)\n",
    "            logger.info(f\"Extracting zip file {self.config.local_data_file} to {unzip_path}\")\n",
    "\n",
    "            with zipfile.ZipFile(self.config.local_data_file, 'r') as zip_ref:\n",
    "                zip_ref.extractall(unzip_path)\n",
    "\n",
    "            logger.info(f\"Zip file extracted successfully to {unzip_path}\")\n",
    "\n",
    "        except Exception as e:\n",
    "            logger.error(f\"Error occurred while extracting zip file: {str(e)}\")\n",
    "            raise e"
   ]
  },
  {
   "cell_type": "code",
   "execution_count": 45,
   "metadata": {},
   "outputs": [
    {
     "name": "stdout",
     "output_type": "stream",
     "text": [
      "[2024-10-16 12:18:35,294: INFO: 3976833375: Loading configurations from config/config.yaml]\n",
      "[2024-10-16 12:18:35,298: INFO: common: yaml file: config/config.yaml loaded successfully]\n",
      "[2024-10-16 12:18:35,298: INFO: 3976833375: Loading parameters from params.yaml]\n",
      "[2024-10-16 12:18:35,300: INFO: common: yaml file: params.yaml loaded successfully]\n",
      "[2024-10-16 12:18:35,300: INFO: 3976833375: Creating artifacts root directory: artifacts]\n",
      "[2024-10-16 12:18:35,301: INFO: common: created directory at: artifacts]\n",
      "[2024-10-16 12:18:35,301: INFO: 3976833375: Preparing data ingestion configuration]\n",
      "[2024-10-16 12:18:35,302: INFO: 3976833375: Creating data ingestion root directory: artifacts/data_ingestion]\n",
      "[2024-10-16 12:18:35,302: INFO: common: created directory at: artifacts/data_ingestion]\n",
      "[2024-10-16 12:18:35,303: INFO: 3976833375: Data ingestion config created: DataIngestionConfig(root_dir='artifacts/data_ingestion', source_URL='https://drive.google.com/file/d/1mCXACVPjKjD0Q0WhaqmVZrwyUmj9jpNY/view?usp=sharing', local_data_file='artifacts/data_ingestion/data.zip', unzip_dir='artifacts/data_ingestion')]\n",
      "[2024-10-16 12:18:35,303: INFO: 1761728033: Data Ingestion config initialized: DataIngestionConfig(root_dir='artifacts/data_ingestion', source_URL='https://drive.google.com/file/d/1mCXACVPjKjD0Q0WhaqmVZrwyUmj9jpNY/view?usp=sharing', local_data_file='artifacts/data_ingestion/data.zip', unzip_dir='artifacts/data_ingestion')]\n",
      "[2024-10-16 12:18:35,303: INFO: 1761728033: Downloading data from https://drive.google.com/file/d/1mCXACVPjKjD0Q0WhaqmVZrwyUmj9jpNY/view?usp=sharing into file artifacts/data_ingestion/data.zip]\n"
     ]
    },
    {
     "name": "stderr",
     "output_type": "stream",
     "text": [
      "Downloading...\n",
      "From (original): https://drive.google.com/uc?/export=download&id=1mCXACVPjKjD0Q0WhaqmVZrwyUmj9jpNY\n",
      "From (redirected): https://drive.google.com/uc?%2Fexport=download&id=1mCXACVPjKjD0Q0WhaqmVZrwyUmj9jpNY&confirm=t&uuid=8604decd-f22a-412b-ab0a-8ea609047be9\n",
      "To: /Users/sarutsunpawatr/Datath Online courses/E2Eproject/MLflowdemp/MLflow/End-to-End-project-classification-using-MLflow-DVC-on-Aws/artifacts/data_ingestion/data.zip\n",
      "100%|██████████| 49.2M/49.2M [00:44<00:00, 1.11MB/s]"
     ]
    },
    {
     "name": "stdout",
     "output_type": "stream",
     "text": [
      "[2024-10-16 12:19:24,968: INFO: 1761728033: Successfully downloaded data from https://drive.google.com/file/d/1mCXACVPjKjD0Q0WhaqmVZrwyUmj9jpNY/view?usp=sharing into file artifacts/data_ingestion/data.zip]\n",
      "[2024-10-16 12:19:24,969: INFO: 1761728033: Extracting zip file artifacts/data_ingestion/data.zip to artifacts/data_ingestion]\n"
     ]
    },
    {
     "name": "stderr",
     "output_type": "stream",
     "text": [
      "\n"
     ]
    },
    {
     "name": "stdout",
     "output_type": "stream",
     "text": [
      "[2024-10-16 12:19:25,302: INFO: 1761728033: Zip file extracted successfully to artifacts/data_ingestion]\n"
     ]
    }
   ],
   "source": [
    "try:\n",
    "    config = ConfigurationManager()\n",
    "    data_ingestion_config = config.get_data_ingestion_config()\n",
    "    data_ingestion = DataIngestion(config=data_ingestion_config)\n",
    "    data_ingestion.download_file()\n",
    "    data_ingestion.extract_zip_file()\n",
    "except Exception as e:\n",
    "    raise e"
   ]
  },
  {
   "cell_type": "code",
   "execution_count": null,
   "metadata": {},
   "outputs": [],
   "source": []
  }
 ],
 "metadata": {
  "kernelspec": {
   "display_name": "chestclassifier",
   "language": "python",
   "name": "python3"
  },
  "language_info": {
   "codemirror_mode": {
    "name": "ipython",
    "version": 3
   },
   "file_extension": ".py",
   "mimetype": "text/x-python",
   "name": "python",
   "nbconvert_exporter": "python",
   "pygments_lexer": "ipython3",
   "version": "3.13.0"
  }
 },
 "nbformat": 4,
 "nbformat_minor": 2
}
